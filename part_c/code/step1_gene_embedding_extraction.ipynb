{
 "cells": [
  {
   "cell_type": "code",
   "execution_count": 2,
   "metadata": {},
   "outputs": [],
   "source": [
    "import os\n",
    "os.environ[\"CUDA_VISIBLE_DEVICES\"]=\"0\"\n",
    "\n",
    "import anndata as ad\n",
    "import pandas as pd\n",
    "import scanpy as sc\n",
    "import numpy as np\n",
    "import torch\n",
    "from scETM import scETM, UnsupervisedTrainer, evaluate, prepare_for_transfer\n",
    "sc.set_figure_params(dpi=120, dpi_save=250, fontsize=10, figsize=(10, 10), facecolor=\"white\")"
   ]
  },
  {
   "cell_type": "code",
   "execution_count": 3,
   "metadata": {},
   "outputs": [],
   "source": [
    "adata = sc.read_h5ad('data/sc_training.h5ad')\n",
    "adata.obs[\"batch_indices\"] = np.array([s[-1] for s in list(adata.obs.lane)])\n",
    "emb_dim = 32"
   ]
  },
  {
   "cell_type": "markdown",
   "metadata": {},
   "source": [
    "Unsupervised learning to reconstruct scRNA-seq data"
   ]
  },
  {
   "cell_type": "code",
   "execution_count": 1,
   "metadata": {
    "collapsed": true
   },
   "outputs": [
    {
     "name": "stderr",
     "output_type": "stream",
     "text": [
      "[2023-01-14 12:57:30,829] INFO - scETM.logging_utils: scETM.__init__(15077, n_batches = 4, trainable_gene_emb_dim = 32)\n",
      "[2023-01-14 12:57:32,221] INFO - scETM.logging_utils: UnsupervisedTrainer.__init__(scETM(\n",
      "  (q_delta): Sequential(\n",
      "    (0): Linear(in_features=15077, out_features=128, bias=True)\n",
      "    (1): ReLU()\n",
      "    (2): BatchNorm1d(128, eps=1e-05, momentum=0.1, affine=True, track_running_stats=True)\n",
      "    (3): Dropout(p=0.1, inplace=False)\n",
      "  )\n",
      "  (mu_q_delta): Linear(in_features=128, out_features=50, bias=True)\n",
      "  (logsigma_q_delta): Linear(in_features=128, out_features=50, bias=True)\n",
      "  (rho_trainable_emb): PartlyTrainableParameter2D(height=32, fixed=0, trainable=15077)\n",
      "), AnnData object with n_obs × n_vars = 28697 × 15077\n",
      "    obs: 'gRNA_maxID', 'state', 'condition', 'lane', 'batch_indices'\n",
      "    layers: 'rawcounts', test_ratio = 0.01, ckpt_dir = submission/checkpoints/, init_lr = 0.0001, batch_size = 16000, seed = 24)\n",
      "[2023-01-14 12:57:32,222] INFO - scETM.trainers.trainer_utils: Set seed to 24.\n",
      "[2023-01-14 12:57:32,238] INFO - scETM.trainers.trainer_utils: Keeping 286 cells (0.01) as test data.\n",
      "[2023-01-14 12:57:32,240] INFO - scETM.trainers.UnsupervisedTrainer: ckpt_dir: submission/checkpoints/scETM_01_14-12_57_32\n",
      "[2023-01-14 12:57:32,240] INFO - scETM.logging_utils: UnsupervisedTrainer.train(<scETM.trainers.UnsupervisedTrainer.UnsupervisedTrainer object at 0x7ff55fcfbd00>, n_epochs = 12000, eval_every = 6000, eval_kwargs = {'cell_type_col': 'state'}, save_model_ckpt = True)\n"
     ]
    },
    {
     "name": "stdout",
     "output_type": "stream",
     "text": [
      "loss:      10.83\tnll:      10.83\tkl_delta:     0.2007\tmax_norm:     0.2975\tEpoch     0/12000\tNext ckpt:       0\r"
     ]
    },
    {
     "name": "stderr",
     "output_type": "stream",
     "text": [
      "[2023-01-14 12:57:36,587] INFO - scETM.trainers.UnsupervisedTrainer: ==========Epoch 0==========\n",
      "[2023-01-14 12:57:36,592] INFO - scETM.trainers.UnsupervisedTrainer: pmem(rss=15544811520, vms=34319380480, shared=723554304, text=2043904, lib=0, data=18835697664, dirty=0)\n",
      "[2023-01-14 12:57:36,593] INFO - scETM.trainers.UnsupervisedTrainer: lr          :    9.999e-05\n",
      "[2023-01-14 12:57:36,594] INFO - scETM.trainers.UnsupervisedTrainer: kl_weight   :            0\n",
      "[2023-01-14 12:57:36,595] INFO - scETM.trainers.trainer_utils: loss        :      10.83\n",
      "[2023-01-14 12:57:36,596] INFO - scETM.trainers.trainer_utils: nll         :      10.83\n",
      "[2023-01-14 12:57:36,599] INFO - scETM.trainers.trainer_utils: kl_delta    :     0.2007\n",
      "[2023-01-14 12:57:36,599] INFO - scETM.trainers.trainer_utils: max_norm    :     0.2975\n",
      "[2023-01-14 12:57:36,634] INFO - scETM.trainers.UnsupervisedTrainer: test nll: 10.3841\n",
      "[2023-01-14 12:57:38,378] INFO - scETM.logging_utils: evaluate(adata = AnnData object with n_obs × n_vars = 28697 × 15077\n",
      "    obs: 'gRNA_maxID', 'state', 'condition', 'lane', 'batch_indices'\n",
      "    obsm: 'delta'\n",
      "    layers: 'rawcounts', embedding_key = delta, batch_col = batch_indices, plot_fname = scETM_delta_epoch0, plot_dir = submission/checkpoints/scETM_01_14-12_57_32, writer = None, cell_type_col = state)\n",
      "[2023-01-14 12:57:38,381] WARNING - scETM.eval_utils: scETM.evaluate assumes discrete batches. Converting batch_col to categorical.\n",
      "2023-01-14 12:57:40.784442: I tensorflow/core/platform/cpu_feature_guard.cc:193] This TensorFlow binary is optimized with oneAPI Deep Neural Network Library (oneDNN) to use the following CPU instructions in performance-critical operations:  AVX2 AVX512F AVX512_VNNI FMA\n",
      "To enable them in other operations, rebuild TensorFlow with the appropriate compiler flags.\n",
      "2023-01-14 12:57:40.910873: I tensorflow/core/util/util.cc:169] oneDNN custom operations are on. You may see slightly different numerical results due to floating-point round-off errors from different computation orders. To turn them off, set the environment variable `TF_ENABLE_ONEDNN_OPTS=0`.\n",
      "2023-01-14 12:57:40.938657: E tensorflow/stream_executor/cuda/cuda_blas.cc:2981] Unable to register cuBLAS factory: Attempting to register factory for plugin cuBLAS when one has already been registered\n",
      "2023-01-14 12:57:41.416038: W tensorflow/stream_executor/platform/default/dso_loader.cc:64] Could not load dynamic library 'libnvinfer.so.7'; dlerror: libnvinfer.so.7: cannot open shared object file: No such file or directory\n",
      "2023-01-14 12:57:41.416088: W tensorflow/stream_executor/platform/default/dso_loader.cc:64] Could not load dynamic library 'libnvinfer_plugin.so.7'; dlerror: libnvinfer_plugin.so.7: cannot open shared object file: No such file or directory\n",
      "2023-01-14 12:57:41.416092: W tensorflow/compiler/tf2tensorrt/utils/py_utils.cc:38] TF-TRT Warning: Cannot dlopen some TensorRT libraries. If you would like to use Nvidia GPU with TensorRT, please make sure the missing libraries mentioned above are installed properly.\n",
      "[2023-01-14 12:57:58,247] INFO - scETM.eval_utils: Performing leiden clustering\n",
      "INFO:scETM.eval_utils:Performing leiden clustering\n",
      "[2023-01-14 12:57:59,801] INFO - scETM.eval_utils: Resolution:  0.01\tARI:  0.0000\tNMI:  0.0000\tbARI:  0.0000\t# labels: 1\n",
      "INFO:scETM.eval_utils:Resolution:  0.01\tARI:  0.0000\tNMI:  0.0000\tbARI:  0.0000\t# labels: 1\n",
      "[2023-01-14 12:58:01,316] INFO - scETM.eval_utils: Resolution:  0.02\tARI:  0.0000\tNMI:  0.0000\tbARI:  0.0000\t# labels: 1\n",
      "INFO:scETM.eval_utils:Resolution:  0.02\tARI:  0.0000\tNMI:  0.0000\tbARI:  0.0000\t# labels: 1\n",
      "[2023-01-14 12:58:02,617] INFO - scETM.eval_utils: Resolution:  0.04\tARI:  0.0000\tNMI:  0.0000\tbARI:  0.0000\t# labels: 1\n",
      "INFO:scETM.eval_utils:Resolution:  0.04\tARI:  0.0000\tNMI:  0.0000\tbARI:  0.0000\t# labels: 1\n",
      "[2023-01-14 12:58:03,936] INFO - scETM.eval_utils: Resolution:  0.08\tARI:  0.0000\tNMI:  0.0000\tbARI:  0.0000\t# labels: 1\n",
      "INFO:scETM.eval_utils:Resolution:  0.08\tARI:  0.0000\tNMI:  0.0000\tbARI:  0.0000\t# labels: 1\n",
      "[2023-01-14 12:58:05,271] INFO - scETM.eval_utils: Resolution:  0.16\tARI:  0.0000\tNMI:  0.0000\tbARI:  0.0000\t# labels: 1\n",
      "INFO:scETM.eval_utils:Resolution:  0.16\tARI:  0.0000\tNMI:  0.0000\tbARI:  0.0000\t# labels: 1\n",
      "[2023-01-14 12:58:06,716] INFO - scETM.eval_utils: Resolution:  0.32\tARI:  0.0000\tNMI:  0.0000\tbARI:  0.0000\t# labels: 1\n",
      "INFO:scETM.eval_utils:Resolution:  0.32\tARI:  0.0000\tNMI:  0.0000\tbARI:  0.0000\t# labels: 1\n",
      "[2023-01-14 12:58:11,905] INFO - scETM.eval_utils: Resolution:  0.64\tARI:  0.0727\tNMI:  0.1017\tbARI:  0.0005\t# labels: 4\n",
      "INFO:scETM.eval_utils:Resolution:  0.64\tARI:  0.0727\tNMI:  0.1017\tbARI:  0.0005\t# labels: 4\n",
      "[2023-01-14 12:58:18,942] INFO - scETM.eval_utils: delta_ASW: -0.0105\n",
      "INFO:scETM.eval_utils:delta_ASW: -0.0105\n",
      "[2023-01-14 12:58:18,957] INFO - scETM.eval_utils: SW: batch_indices              1         2         3         4\n",
      "state                                                     \n",
      "cycling             0.119163  0.119680  0.113859  0.090355\n",
      "effector           -0.173934 -0.177664 -0.165478 -0.117563\n",
      "other              -0.244618 -0.247251 -0.246343 -0.191562\n",
      "progenitor         -0.090198 -0.102735 -0.099421 -0.067768\n",
      "terminal exhausted -0.069731 -0.071392 -0.065456 -0.048607\n",
      "INFO:scETM.eval_utils:SW: batch_indices              1         2         3         4\n",
      "state                                                     \n",
      "cycling             0.119163  0.119680  0.113859  0.090355\n",
      "effector           -0.173934 -0.177664 -0.165478 -0.117563\n",
      "other              -0.244618 -0.247251 -0.246343 -0.191562\n",
      "progenitor         -0.090198 -0.102735 -0.099421 -0.067768\n",
      "terminal exhausted -0.069731 -0.071392 -0.065456 -0.048607\n",
      "[2023-01-14 12:58:18,960] INFO - scETM.eval_utils: Calculating batch mixing entropy...\n",
      "INFO:scETM.eval_utils:Calculating batch mixing entropy...\n",
      "[2023-01-14 12:58:19,517] INFO - scETM.eval_utils: delta_BE:  1.1927\n",
      "INFO:scETM.eval_utils:delta_BE:  1.1927\n",
      "[2023-01-14 12:58:19,519] INFO - scETM.eval_utils: Calculating kbet...\n",
      "INFO:scETM.eval_utils:Calculating kbet...\n",
      "[2023-01-14 12:58:27,116] INFO - scETM.eval_utils: delta_kBET:  0.6425\n",
      "INFO:scETM.eval_utils:delta_kBET:  0.6425\n",
      "[2023-01-14 12:58:27,120] INFO - scETM.eval_utils: Plotting UMAP embeddings...\n",
      "INFO:scETM.eval_utils:Plotting UMAP embeddings...\n",
      "[2023-01-14 12:58:29,953] INFO - scETM.trainers.UnsupervisedTrainer: ==========End of evaluation==========\n",
      "INFO:scETM.trainers.UnsupervisedTrainer:==========End of evaluation==========\n"
     ]
    },
    {
     "name": "stdout",
     "output_type": "stream",
     "text": [
      "loss:      8.381\tnll:      8.381\tkl_delta:      268.7\tmax_norm:     0.2632\tEpoch  5999/12000\tNext ckpt:    6000\r"
     ]
    },
    {
     "name": "stderr",
     "output_type": "stream",
     "text": [
      "[2023-01-14 14:04:06,609] INFO - scETM.trainers.UnsupervisedTrainer: ==========Epoch 6000==========\n",
      "INFO:scETM.trainers.UnsupervisedTrainer:==========Epoch 6000==========\n",
      "[2023-01-14 14:04:06,616] INFO - scETM.trainers.UnsupervisedTrainer: pmem(rss=18963922944, vms=47088144384, shared=1049296896, text=2043904, lib=0, data=22971084800, dirty=0)\n",
      "INFO:scETM.trainers.UnsupervisedTrainer:pmem(rss=18963922944, vms=47088144384, shared=1049296896, text=2043904, lib=0, data=22971084800, dirty=0)\n",
      "[2023-01-14 14:04:06,618] INFO - scETM.trainers.UnsupervisedTrainer: lr          :    5.277e-05\n",
      "INFO:scETM.trainers.UnsupervisedTrainer:lr          :    5.277e-05\n",
      "[2023-01-14 14:04:06,620] INFO - scETM.trainers.UnsupervisedTrainer: kl_weight   :        1e-07\n",
      "INFO:scETM.trainers.UnsupervisedTrainer:kl_weight   :        1e-07\n",
      "[2023-01-14 14:04:06,626] INFO - scETM.trainers.trainer_utils: loss        :      8.793\n",
      "INFO:scETM.trainers.trainer_utils:loss        :      8.793\n",
      "[2023-01-14 14:04:06,629] INFO - scETM.trainers.trainer_utils: nll         :      8.793\n",
      "INFO:scETM.trainers.trainer_utils:nll         :      8.793\n",
      "[2023-01-14 14:04:06,632] INFO - scETM.trainers.trainer_utils: kl_delta    :      180.2\n",
      "INFO:scETM.trainers.trainer_utils:kl_delta    :      180.2\n",
      "[2023-01-14 14:04:06,640] INFO - scETM.trainers.trainer_utils: max_norm    :     0.1249\n",
      "INFO:scETM.trainers.trainer_utils:max_norm    :     0.1249\n",
      "[2023-01-14 14:04:06,701] INFO - scETM.trainers.UnsupervisedTrainer: test nll:  8.4772\n",
      "INFO:scETM.trainers.UnsupervisedTrainer:test nll:  8.4772\n",
      "[2023-01-14 14:04:08,962] INFO - scETM.logging_utils: evaluate(adata = AnnData object with n_obs × n_vars = 28697 × 15077\n",
      "    obs: 'gRNA_maxID', 'state', 'condition', 'lane', 'batch_indices', 'leiden_0.01', 'leiden_0.02', 'leiden_0.04', 'leiden_0.08', 'leiden_0.16', 'leiden_0.32', 'leiden_0.64', 'silhouette_width'\n",
      "    uns: 'neighbors', 'leiden', 'umap', 'leiden_0.64_colors', 'batch_indices_colors', 'state_colors'\n",
      "    obsm: 'delta', 'knn_indices', 'X_umap'\n",
      "    layers: 'rawcounts'\n",
      "    obsp: 'distances', 'connectivities', embedding_key = delta, batch_col = batch_indices, plot_fname = scETM_delta_epoch6000, plot_dir = submission/checkpoints/scETM_01_14-12_57_32, writer = None, cell_type_col = state)\n",
      "INFO:scETM.logging_utils:evaluate(adata = AnnData object with n_obs × n_vars = 28697 × 15077\n",
      "    obs: 'gRNA_maxID', 'state', 'condition', 'lane', 'batch_indices', 'leiden_0.01', 'leiden_0.02', 'leiden_0.04', 'leiden_0.08', 'leiden_0.16', 'leiden_0.32', 'leiden_0.64', 'silhouette_width'\n",
      "    uns: 'neighbors', 'leiden', 'umap', 'leiden_0.64_colors', 'batch_indices_colors', 'state_colors'\n",
      "    obsm: 'delta', 'knn_indices', 'X_umap'\n",
      "    layers: 'rawcounts'\n",
      "    obsp: 'distances', 'connectivities', embedding_key = delta, batch_col = batch_indices, plot_fname = scETM_delta_epoch6000, plot_dir = submission/checkpoints/scETM_01_14-12_57_32, writer = None, cell_type_col = state)\n",
      "[2023-01-14 14:04:12,600] INFO - scETM.eval_utils: Performing leiden clustering\n",
      "INFO:scETM.eval_utils:Performing leiden clustering\n",
      "[2023-01-14 14:04:14,502] INFO - scETM.eval_utils: Resolution:  0.01\tARI:  0.0014\tNMI:  0.0015\tbARI:  0.7949\t# labels: 3\n",
      "INFO:scETM.eval_utils:Resolution:  0.01\tARI:  0.0014\tNMI:  0.0015\tbARI:  0.7949\t# labels: 3\n",
      "[2023-01-14 14:04:16,081] INFO - scETM.eval_utils: Resolution:  0.02\tARI:  0.0014\tNMI:  0.0015\tbARI:  0.7949\t# labels: 3\n",
      "INFO:scETM.eval_utils:Resolution:  0.02\tARI:  0.0014\tNMI:  0.0015\tbARI:  0.7949\t# labels: 3\n",
      "[2023-01-14 14:04:17,385] INFO - scETM.eval_utils: Resolution:  0.04\tARI:  0.0014\tNMI:  0.0015\tbARI:  0.7949\t# labels: 3\n",
      "INFO:scETM.eval_utils:Resolution:  0.04\tARI:  0.0014\tNMI:  0.0015\tbARI:  0.7949\t# labels: 3\n",
      "[2023-01-14 14:04:18,530] INFO - scETM.eval_utils: Resolution:  0.08\tARI:  0.0014\tNMI:  0.0015\tbARI:  0.7949\t# labels: 3\n",
      "INFO:scETM.eval_utils:Resolution:  0.08\tARI:  0.0014\tNMI:  0.0015\tbARI:  0.7949\t# labels: 3\n",
      "[2023-01-14 14:04:20,108] INFO - scETM.eval_utils: Resolution:  0.16\tARI:  0.0040\tNMI:  0.0014\tbARI:  0.9778\t# labels: 4\n",
      "INFO:scETM.eval_utils:Resolution:  0.16\tARI:  0.0040\tNMI:  0.0014\tbARI:  0.9778\t# labels: 4\n",
      "[2023-01-14 14:04:22,291] INFO - scETM.eval_utils: Resolution:  0.32\tARI:  0.0149\tNMI:  0.0190\tbARI:  0.8166\t# labels: 5\n",
      "INFO:scETM.eval_utils:Resolution:  0.32\tARI:  0.0149\tNMI:  0.0190\tbARI:  0.8166\t# labels: 5\n",
      "[2023-01-14 14:04:26,380] INFO - scETM.eval_utils: Resolution:  0.64\tARI:  0.0280\tNMI:  0.0434\tbARI:  0.5029\t# labels: 10\n",
      "INFO:scETM.eval_utils:Resolution:  0.64\tARI:  0.0280\tNMI:  0.0434\tbARI:  0.5029\t# labels: 10\n",
      "[2023-01-14 14:04:33,657] INFO - scETM.eval_utils: delta_ASW: -0.0016\n",
      "INFO:scETM.eval_utils:delta_ASW: -0.0016\n",
      "[2023-01-14 14:04:33,670] INFO - scETM.eval_utils: SW: batch_indices              1         2         3         4\n",
      "state                                                     \n",
      "cycling             0.069450  0.004266  0.007529  0.092101\n",
      "effector           -0.087265 -0.066374 -0.068048 -0.066529\n",
      "other              -0.085037 -0.112004 -0.113878 -0.065107\n",
      "progenitor         -0.068775 -0.035191 -0.046617 -0.086873\n",
      "terminal exhausted -0.030765  0.025399  0.024060 -0.067824\n",
      "INFO:scETM.eval_utils:SW: batch_indices              1         2         3         4\n",
      "state                                                     \n",
      "cycling             0.069450  0.004266  0.007529  0.092101\n",
      "effector           -0.087265 -0.066374 -0.068048 -0.066529\n",
      "other              -0.085037 -0.112004 -0.113878 -0.065107\n",
      "progenitor         -0.068775 -0.035191 -0.046617 -0.086873\n",
      "terminal exhausted -0.030765  0.025399  0.024060 -0.067824\n",
      "[2023-01-14 14:04:33,672] INFO - scETM.eval_utils: Calculating batch mixing entropy...\n",
      "INFO:scETM.eval_utils:Calculating batch mixing entropy...\n",
      "[2023-01-14 14:04:34,294] INFO - scETM.eval_utils: delta_BE:  0.0331\n",
      "INFO:scETM.eval_utils:delta_BE:  0.0331\n",
      "[2023-01-14 14:04:34,296] INFO - scETM.eval_utils: Calculating kbet...\n",
      "INFO:scETM.eval_utils:Calculating kbet...\n",
      "[2023-01-14 14:04:41,891] INFO - scETM.eval_utils: delta_kBET:  0.0001\n",
      "INFO:scETM.eval_utils:delta_kBET:  0.0001\n",
      "[2023-01-14 14:04:41,893] INFO - scETM.eval_utils: Plotting UMAP embeddings...\n",
      "INFO:scETM.eval_utils:Plotting UMAP embeddings...\n",
      "[2023-01-14 14:04:44,146] INFO - scETM.trainers.UnsupervisedTrainer: ==========End of evaluation==========\n",
      "INFO:scETM.trainers.UnsupervisedTrainer:==========End of evaluation==========\n"
     ]
    },
    {
     "name": "stdout",
     "output_type": "stream",
     "text": [
      "loss:      8.334\tnll:      8.333\tkl_delta:      328.4\tmax_norm:     0.7902\tEpoch 11999/12000\tNext ckpt:   12000\r"
     ]
    },
    {
     "name": "stderr",
     "output_type": "stream",
     "text": [
      "[2023-01-14 15:19:14,270] INFO - scETM.trainers.UnsupervisedTrainer: ==========Epoch 12000==========\n",
      "INFO:scETM.trainers.UnsupervisedTrainer:==========Epoch 12000==========\n",
      "[2023-01-14 15:19:14,273] INFO - scETM.trainers.UnsupervisedTrainer: pmem(rss=12004614144, vms=43964141568, shared=1049694208, text=2043904, lib=0, data=14259892224, dirty=0)\n",
      "INFO:scETM.trainers.UnsupervisedTrainer:pmem(rss=12004614144, vms=43964141568, shared=1049694208, text=2043904, lib=0, data=14259892224, dirty=0)\n",
      "[2023-01-14 15:19:14,275] INFO - scETM.trainers.UnsupervisedTrainer: lr          :    2.784e-05\n",
      "INFO:scETM.trainers.UnsupervisedTrainer:lr          :    2.784e-05\n",
      "[2023-01-14 15:19:14,277] INFO - scETM.trainers.UnsupervisedTrainer: kl_weight   :        1e-07\n",
      "INFO:scETM.trainers.UnsupervisedTrainer:kl_weight   :        1e-07\n",
      "[2023-01-14 15:19:14,281] INFO - scETM.trainers.trainer_utils: loss        :      8.346\n",
      "INFO:scETM.trainers.trainer_utils:loss        :      8.346\n",
      "[2023-01-14 15:19:14,283] INFO - scETM.trainers.trainer_utils: nll         :      8.346\n",
      "INFO:scETM.trainers.trainer_utils:nll         :      8.346\n",
      "[2023-01-14 15:19:14,284] INFO - scETM.trainers.trainer_utils: kl_delta    :      309.5\n",
      "INFO:scETM.trainers.trainer_utils:kl_delta    :      309.5\n",
      "[2023-01-14 15:19:14,289] INFO - scETM.trainers.trainer_utils: max_norm    :     0.2851\n",
      "INFO:scETM.trainers.trainer_utils:max_norm    :     0.2851\n",
      "[2023-01-14 15:19:14,319] INFO - scETM.trainers.UnsupervisedTrainer: test nll:  8.4916\n",
      "INFO:scETM.trainers.UnsupervisedTrainer:test nll:  8.4916\n",
      "[2023-01-14 15:19:16,134] INFO - scETM.logging_utils: evaluate(adata = AnnData object with n_obs × n_vars = 28697 × 15077\n",
      "    obs: 'gRNA_maxID', 'state', 'condition', 'lane', 'batch_indices', 'leiden_0.01', 'leiden_0.02', 'leiden_0.04', 'leiden_0.08', 'leiden_0.16', 'leiden_0.32', 'leiden_0.64', 'silhouette_width'\n",
      "    uns: 'neighbors', 'leiden', 'umap', 'leiden_0.64_colors', 'batch_indices_colors', 'state_colors'\n",
      "    obsm: 'delta', 'knn_indices', 'X_umap'\n",
      "    layers: 'rawcounts'\n",
      "    obsp: 'distances', 'connectivities', embedding_key = delta, batch_col = batch_indices, plot_fname = scETM_delta_epoch12000, plot_dir = submission/checkpoints/scETM_01_14-12_57_32, writer = None, cell_type_col = state)\n",
      "INFO:scETM.logging_utils:evaluate(adata = AnnData object with n_obs × n_vars = 28697 × 15077\n",
      "    obs: 'gRNA_maxID', 'state', 'condition', 'lane', 'batch_indices', 'leiden_0.01', 'leiden_0.02', 'leiden_0.04', 'leiden_0.08', 'leiden_0.16', 'leiden_0.32', 'leiden_0.64', 'silhouette_width'\n",
      "    uns: 'neighbors', 'leiden', 'umap', 'leiden_0.64_colors', 'batch_indices_colors', 'state_colors'\n",
      "    obsm: 'delta', 'knn_indices', 'X_umap'\n",
      "    layers: 'rawcounts'\n",
      "    obsp: 'distances', 'connectivities', embedding_key = delta, batch_col = batch_indices, plot_fname = scETM_delta_epoch12000, plot_dir = submission/checkpoints/scETM_01_14-12_57_32, writer = None, cell_type_col = state)\n",
      "[2023-01-14 15:19:19,531] INFO - scETM.eval_utils: Performing leiden clustering\n",
      "INFO:scETM.eval_utils:Performing leiden clustering\n",
      "[2023-01-14 15:19:21,084] INFO - scETM.eval_utils: Resolution:  0.01\tARI:  0.0040\tNMI:  0.0014\tbARI:  0.9918\t# labels: 4\n",
      "INFO:scETM.eval_utils:Resolution:  0.01\tARI:  0.0040\tNMI:  0.0014\tbARI:  0.9918\t# labels: 4\n",
      "[2023-01-14 15:19:22,630] INFO - scETM.eval_utils: Resolution:  0.02\tARI:  0.0040\tNMI:  0.0014\tbARI:  0.9918\t# labels: 4\n",
      "INFO:scETM.eval_utils:Resolution:  0.02\tARI:  0.0040\tNMI:  0.0014\tbARI:  0.9918\t# labels: 4\n",
      "[2023-01-14 15:19:24,000] INFO - scETM.eval_utils: Resolution:  0.04\tARI:  0.0040\tNMI:  0.0014\tbARI:  0.9918\t# labels: 4\n",
      "INFO:scETM.eval_utils:Resolution:  0.04\tARI:  0.0040\tNMI:  0.0014\tbARI:  0.9918\t# labels: 4\n",
      "[2023-01-14 15:19:25,083] INFO - scETM.eval_utils: Resolution:  0.08\tARI:  0.0040\tNMI:  0.0014\tbARI:  0.9918\t# labels: 4\n",
      "INFO:scETM.eval_utils:Resolution:  0.08\tARI:  0.0040\tNMI:  0.0014\tbARI:  0.9918\t# labels: 4\n",
      "[2023-01-14 15:19:26,170] INFO - scETM.eval_utils: Resolution:  0.16\tARI:  0.0040\tNMI:  0.0014\tbARI:  0.9918\t# labels: 4\n",
      "INFO:scETM.eval_utils:Resolution:  0.16\tARI:  0.0040\tNMI:  0.0014\tbARI:  0.9918\t# labels: 4\n",
      "[2023-01-14 15:19:28,496] INFO - scETM.eval_utils: Resolution:  0.32\tARI:  0.0008\tNMI:  0.0032\tbARI:  0.8307\t# labels: 5\n",
      "INFO:scETM.eval_utils:Resolution:  0.32\tARI:  0.0008\tNMI:  0.0032\tbARI:  0.8307\t# labels: 5\n",
      "[2023-01-14 15:19:30,402] INFO - scETM.eval_utils: Resolution:  0.64\tARI:  0.0363\tNMI:  0.0637\tbARI:  0.5515\t# labels: 9\n",
      "INFO:scETM.eval_utils:Resolution:  0.64\tARI:  0.0363\tNMI:  0.0637\tbARI:  0.5515\t# labels: 9\n",
      "[2023-01-14 15:19:37,285] INFO - scETM.eval_utils: delta_ASW: -0.0007\n",
      "INFO:scETM.eval_utils:delta_ASW: -0.0007\n",
      "[2023-01-14 15:19:37,297] INFO - scETM.eval_utils: SW: batch_indices              1         2         3         4\n",
      "state                                                     \n",
      "cycling             0.068010  0.014758  0.008979  0.083790\n",
      "effector           -0.060951 -0.070092 -0.063760 -0.042007\n",
      "other              -0.093891 -0.141732 -0.145693 -0.060345\n",
      "progenitor         -0.056030 -0.040890 -0.049291 -0.084371\n",
      "terminal exhausted -0.038079  0.014108  0.020845 -0.060967\n",
      "INFO:scETM.eval_utils:SW: batch_indices              1         2         3         4\n",
      "state                                                     \n",
      "cycling             0.068010  0.014758  0.008979  0.083790\n",
      "effector           -0.060951 -0.070092 -0.063760 -0.042007\n",
      "other              -0.093891 -0.141732 -0.145693 -0.060345\n",
      "progenitor         -0.056030 -0.040890 -0.049291 -0.084371\n",
      "terminal exhausted -0.038079  0.014108  0.020845 -0.060967\n",
      "[2023-01-14 15:19:37,300] INFO - scETM.eval_utils: Calculating batch mixing entropy...\n",
      "INFO:scETM.eval_utils:Calculating batch mixing entropy...\n",
      "[2023-01-14 15:19:37,845] INFO - scETM.eval_utils: delta_BE:  0.0041\n",
      "INFO:scETM.eval_utils:delta_BE:  0.0041\n",
      "[2023-01-14 15:19:37,847] INFO - scETM.eval_utils: Calculating kbet...\n",
      "INFO:scETM.eval_utils:Calculating kbet...\n",
      "[2023-01-14 15:19:45,411] INFO - scETM.eval_utils: delta_kBET:  0.0000\n",
      "INFO:scETM.eval_utils:delta_kBET:  0.0000\n",
      "[2023-01-14 15:19:45,414] INFO - scETM.eval_utils: Plotting UMAP embeddings...\n",
      "INFO:scETM.eval_utils:Plotting UMAP embeddings...\n",
      "[2023-01-14 15:19:47,927] INFO - scETM.trainers.UnsupervisedTrainer: ==========End of evaluation==========\n",
      "INFO:scETM.trainers.UnsupervisedTrainer:==========End of evaluation==========\n",
      "[2023-01-14 15:19:47,929] INFO - scETM.trainers.UnsupervisedTrainer: Optimization Finished: submission/checkpoints/scETM_01_14-12_57_32\n",
      "INFO:scETM.trainers.UnsupervisedTrainer:Optimization Finished: submission/checkpoints/scETM_01_14-12_57_32\n"
     ]
    }
   ],
   "source": [
    "model = scETM(adata.n_vars, \n",
    "              n_batches=4, \n",
    "              trainable_gene_emb_dim=emb_dim,\n",
    "             )\n",
    "trainer = UnsupervisedTrainer(model, adata, \n",
    "                              test_ratio=0.01,\n",
    "                              ckpt_dir = \"submission/checkpoints/\",\n",
    "                              init_lr = 1e-4,\n",
    "                              batch_size = 16000,\n",
    "                              seed = 24\n",
    "                             )\n",
    "\n",
    "trainer.train(n_epochs = 12000, \n",
    "              eval_every = 6000, \n",
    "#               min_kl_weight = 0.1,\n",
    "#               max_kl_weight = 0.5,\n",
    "              eval_kwargs = dict(cell_type_col = 'state'), \n",
    "              save_model_ckpt = True)\n"
   ]
  },
  {
   "cell_type": "markdown",
   "metadata": {},
   "source": [
    "Extract gene embedding vectors"
   ]
  },
  {
   "cell_type": "code",
   "execution_count": 15,
   "metadata": {},
   "outputs": [
    {
     "name": "stderr",
     "output_type": "stream",
     "text": [
      "[2023-01-18 11:36:42,294] INFO - scETM.logging_utils: scETM.__init__(15077, n_batches = 4, trainable_gene_emb_dim = 32)\n"
     ]
    },
    {
     "data": {
      "text/plain": [
       "scETM(\n",
       "  (q_delta): Sequential(\n",
       "    (0): Linear(in_features=15077, out_features=128, bias=True)\n",
       "    (1): ReLU()\n",
       "    (2): BatchNorm1d(128, eps=1e-05, momentum=0.1, affine=True, track_running_stats=True)\n",
       "    (3): Dropout(p=0.1, inplace=False)\n",
       "  )\n",
       "  (mu_q_delta): Linear(in_features=128, out_features=50, bias=True)\n",
       "  (logsigma_q_delta): Linear(in_features=128, out_features=50, bias=True)\n",
       "  (rho_trainable_emb): PartlyTrainableParameter2D(height=32, fixed=0, trainable=15077)\n",
       ")"
      ]
     },
     "execution_count": 15,
     "metadata": {},
     "output_type": "execute_result"
    }
   ],
   "source": [
    "model = scETM(adata.n_vars, \n",
    "              n_batches=4, \n",
    "              trainable_gene_emb_dim=emb_dim,\n",
    "             )\n",
    "\n",
    "model.load_state_dict(torch.load(\"./submission/checkpoints/scETM_01_14-12_57_32/model-12000\"))\n",
    "model.eval()"
   ]
  },
  {
   "cell_type": "code",
   "execution_count": 9,
   "metadata": {},
   "outputs": [],
   "source": [
    "model.get_all_embeddings_and_nll(adata)\n",
    "\n",
    "gene_embedding = np.array(adata.varm['rho'])\n",
    "np.save(f\"./submission/embedding/gene_embedding_{emb_dim}\", gene_embedding)\n",
    "\n",
    "gene_names = np.array(adata.var_names)\n",
    "np.save(f\"./submission/embedding/gene_names_{emb_dim}\", gene_names)"
   ]
  }
 ],
 "metadata": {
  "kernelspec": {
   "display_name": "Python 3 (ipykernel)",
   "language": "python",
   "name": "python3"
  },
  "language_info": {
   "codemirror_mode": {
    "name": "ipython",
    "version": 3
   },
   "file_extension": ".py",
   "mimetype": "text/x-python",
   "name": "python",
   "nbconvert_exporter": "python",
   "pygments_lexer": "ipython3",
   "version": "3.10.9 (tags/v3.10.9:1dd9be6, Dec  6 2022, 20:01:21) [MSC v.1934 64 bit (AMD64)]"
  },
  "vscode": {
   "interpreter": {
    "hash": "eeb8680eb43b9a87a49e32cc1c39b4f8c04117cd7cf42ba09bd4997cc8bf2498"
   }
  }
 },
 "nbformat": 4,
 "nbformat_minor": 2
}
